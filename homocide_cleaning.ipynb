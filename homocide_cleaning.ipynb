{
 "cells": [
  {
   "cell_type": "code",
   "execution_count": 1,
   "metadata": {},
   "outputs": [],
   "source": [
    "import pandas as pd "
   ]
  },
  {
   "cell_type": "code",
   "execution_count": 3,
   "metadata": {},
   "outputs": [
    {
     "name": "stdout",
     "output_type": "stream",
     "text": [
      "<class 'pandas.core.frame.DataFrame'>\n",
      "RangeIndex: 13774 entries, 0 to 13773\n",
      "Data columns (total 30 columns):\n",
      " #   Column                      Non-Null Count  Dtype  \n",
      "---  ------                      --------------  -----  \n",
      " 0   ID                          13774 non-null  int64  \n",
      " 1   Case Number                 13774 non-null  object \n",
      " 2   Date                        13774 non-null  object \n",
      " 3   Block                       13774 non-null  object \n",
      " 4   IUCR                        13774 non-null  int64  \n",
      " 5   Primary Type                13774 non-null  object \n",
      " 6   Description                 13774 non-null  object \n",
      " 7   Location Description        13774 non-null  object \n",
      " 8   Arrest                      13774 non-null  bool   \n",
      " 9   Domestic                    13774 non-null  bool   \n",
      " 10  Beat                        13774 non-null  int64  \n",
      " 11  District                    13774 non-null  int64  \n",
      " 12  Ward                        13394 non-null  float64\n",
      " 13  Community Area              13394 non-null  float64\n",
      " 14  FBI Code                    13774 non-null  object \n",
      " 15  X Coordinate                13770 non-null  float64\n",
      " 16  Y Coordinate                13770 non-null  float64\n",
      " 17  Year                        13774 non-null  int64  \n",
      " 18  Updated On                  13774 non-null  object \n",
      " 19  Latitude                    13770 non-null  float64\n",
      " 20  Longitude                   13770 non-null  float64\n",
      " 21  Location                    13770 non-null  object \n",
      " 22  Historical Wards 2003-2015  13707 non-null  float64\n",
      " 23  Zip Codes                   13770 non-null  float64\n",
      " 24  Community Areas             13720 non-null  float64\n",
      " 25  Census Tracts               13716 non-null  float64\n",
      " 26  Wards                       13720 non-null  float64\n",
      " 27  Boundaries - ZIP Codes      13720 non-null  float64\n",
      " 28  Police Districts            13720 non-null  float64\n",
      " 29  Police Beats                13720 non-null  float64\n",
      "dtypes: bool(2), float64(14), int64(5), object(9)\n",
      "memory usage: 3.0+ MB\n"
     ]
    }
   ],
   "source": [
    "data = pd.read_csv('Crimes_-_2001_to_Present_20250527.csv') \n",
    "data.info()"
   ]
  },
  {
   "cell_type": "code",
   "execution_count": 4,
   "metadata": {},
   "outputs": [],
   "source": [
    "data = data.drop_duplicates()"
   ]
  },
  {
   "cell_type": "code",
   "execution_count": 7,
   "metadata": {},
   "outputs": [],
   "source": [
    "data.columns = [\n",
    "    'id',\n",
    "    'case_number',          \n",
    "    'date',                 \n",
    "    'block',                \n",
    "    'ucr_code',             \n",
    "    'primary_type',         \n",
    "    'description',\n",
    "    'location_description',\n",
    "    'arrest', \n",
    "    'domestic', \n",
    "    'beat', \n",
    "    'district', \n",
    "    'ward', \n",
    "    'community_area', \n",
    "    \"fbi_code\", \n",
    "    'x_coordinate',             \n",
    "    'y_coordinate',\n",
    "    'year', \n",
    "    'updated_on',\n",
    "    'latitude', \n",
    "    'longitude',             \n",
    "    'location',             \n",
    "    'historical_wards',     \n",
    "    'zip_code',             \n",
    "    'community_area',       \n",
    "    'census_tract',        \n",
    "    'ward',    \n",
    "    'boundary',            \n",
    "    'police_district',     \n",
    "    'police_beat'          \n",
    "]"
   ]
  },
  {
   "cell_type": "code",
   "execution_count": 8,
   "metadata": {},
   "outputs": [],
   "source": [
    "homicides = data[data['primary_type'].str.contains('HOMICIDE', case=False, na=False)]"
   ]
  },
  {
   "cell_type": "code",
   "execution_count": 10,
   "metadata": {},
   "outputs": [
    {
     "name": "stdout",
     "output_type": "stream",
     "text": [
      "Original rows: 13774\n",
      "Rows after dropping empty values: 13359\n",
      "Rows removed: 415\n"
     ]
    }
   ],
   "source": [
    "data_cleaned = data.dropna()\n",
    "print(f\"Original rows: {len(data)}\")\n",
    "print(f\"Rows after dropping empty values: {len(data_cleaned)}\")\n",
    "print(f\"Rows removed: {len(data) - len(data_cleaned)}\")"
   ]
  },
  {
   "cell_type": "code",
   "execution_count": 11,
   "metadata": {},
   "outputs": [],
   "source": [
    "data_cleaned.to_csv('Chicago_Homicides_Cleaned.csv', index=False)"
   ]
  }
 ],
 "metadata": {
  "kernelspec": {
   "display_name": "Python 3",
   "language": "python",
   "name": "python3"
  },
  "language_info": {
   "codemirror_mode": {
    "name": "ipython",
    "version": 3
   },
   "file_extension": ".py",
   "mimetype": "text/x-python",
   "name": "python",
   "nbconvert_exporter": "python",
   "pygments_lexer": "ipython3",
   "version": "3.13.1"
  }
 },
 "nbformat": 4,
 "nbformat_minor": 2
}
